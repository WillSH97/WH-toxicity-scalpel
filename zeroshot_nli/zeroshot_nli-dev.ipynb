{
 "cells": [
  {
   "cell_type": "code",
   "execution_count": 1,
   "id": "3103e073-1c39-43e0-b2f3-e0a472d4ad20",
   "metadata": {},
   "outputs": [
    {
     "name": "stderr",
     "output_type": "stream",
     "text": [
      "/mnt/c/Users/hew7/documents/venvs/pythia/lib/python3.10/site-packages/tqdm/auto.py:21: TqdmWarning: IProgress not found. Please update jupyter and ipywidgets. See https://ipywidgets.readthedocs.io/en/stable/user_install.html\n",
      "  from .autonotebook import tqdm as notebook_tqdm\n",
      "/mnt/c/Users/hew7/documents/venvs/pythia/lib/python3.10/site-packages/transformers/convert_slow_tokenizer.py:561: UserWarning: The sentencepiece tokenizer that you are converting to a fast tokenizer uses the byte fallback option which is not implemented in the fast tokenizers. In practice this means that the fast version of the tokenizer can produce unknown tokens whereas the sentencepiece version would have converted these unknown tokens into a sequence of byte tokens matching the original piece of text.\n",
      "  warnings.warn(\n",
      "Device set to use cuda:0\n"
     ]
    }
   ],
   "source": [
    "from transformers import pipeline\n",
    "classifier = pipeline(\"zero-shot-classification\",\n",
    "                      model=\"cross-encoder/nli-deberta-v3-base\")"
   ]
  },
  {
   "cell_type": "code",
   "execution_count": 12,
   "id": "96b0375a-db50-40b4-9772-e34a999c15e8",
   "metadata": {},
   "outputs": [
    {
     "name": "stderr",
     "output_type": "stream",
     "text": [
      "You seem to be using the pipelines sequentially on GPU. In order to maximize efficiency please use a dataset\n"
     ]
    },
    {
     "data": {
      "text/plain": [
       "{'sequence': 'Women are worse than men',\n",
       " 'labels': ['misogynistic'],\n",
       " 'scores': [0.8477334976196289]}"
      ]
     },
     "execution_count": 12,
     "metadata": {},
     "output_type": "execute_result"
    }
   ],
   "source": [
    "sequence_to_classify = \"Women are worse than men\"\n",
    "candidate_labels = ['misogynistic']\n",
    "classifier(sequence_to_classify, candidate_labels, multi_label = True)"
   ]
  },
  {
   "cell_type": "code",
   "execution_count": null,
   "id": "4519d9cb-2f99-4cfe-8db1-aaeee844039b",
   "metadata": {},
   "outputs": [],
   "source": []
  }
 ],
 "metadata": {
  "kernelspec": {
   "display_name": "pythia",
   "language": "python",
   "name": "pythia"
  },
  "language_info": {
   "codemirror_mode": {
    "name": "ipython",
    "version": 3
   },
   "file_extension": ".py",
   "mimetype": "text/x-python",
   "name": "python",
   "nbconvert_exporter": "python",
   "pygments_lexer": "ipython3",
   "version": "3.10.12"
  }
 },
 "nbformat": 4,
 "nbformat_minor": 5
}
