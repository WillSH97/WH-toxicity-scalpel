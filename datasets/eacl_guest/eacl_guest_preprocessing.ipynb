{
 "cells": [
  {
   "cell_type": "code",
   "execution_count": 1,
   "id": "71bfc62f-9c74-4814-bb78-217287e33570",
   "metadata": {},
   "outputs": [
    {
     "data": {
      "text/plain": [
       "'\\npreparing EACL guest data\\n\\nThis one needs some cleaning - I\\'m guessing the CSV delimiter of the final outputs were weird - there\\'s some misalignment in the \"image\" col\\n\\nOtherwise, clean.\\n\\nUsing this as ref: https://aclanthology.org/2021.eacl-main.114.pdf\\n'"
      ]
     },
     "execution_count": 1,
     "metadata": {},
     "output_type": "execute_result"
    }
   ],
   "source": [
    "'''\n",
    "preparing EACL guest data\n",
    "\n",
    "This one needs some cleaning - I'm guessing the CSV delimiter of the final outputs were weird - there's some misalignment in the \"image\" col\n",
    "\n",
    "Otherwise, clean.\n",
    "\n",
    "Using this as ref: https://aclanthology.org/2021.eacl-main.114.pdf\n",
    "\n",
    "Deleting all image entries - keep everything else.\n",
    "\n",
    "Assuming that anything not labeled as \"Yes\" in image col is fine.\n",
    "'''"
   ]
  },
  {
   "cell_type": "code",
   "execution_count": 1,
   "id": "944d7538-41f7-46e3-bc4f-cd00bda1ebab",
   "metadata": {},
   "outputs": [],
   "source": [
    "import pandas as pd\n",
    "from copy import deepcopy\n",
    "import numpy as np"
   ]
  },
  {
   "cell_type": "code",
   "execution_count": 2,
   "id": "82ad21f1-eb15-4ae0-a628-086807483af5",
   "metadata": {},
   "outputs": [],
   "source": [
    "eacl_raw = pd.read_csv(\"final_labels.csv\")"
   ]
  },
  {
   "cell_type": "code",
   "execution_count": 3,
   "id": "7bab0062-08f4-41ce-ac52-53b0fa5bb9db",
   "metadata": {},
   "outputs": [],
   "source": [
    "# removing all datapoints with images \n",
    "eacl_noimage = deepcopy(eacl_raw[eacl_raw[\"image\"]!='Yes'])"
   ]
  },
  {
   "cell_type": "code",
   "execution_count": 4,
   "id": "335db876-e431-4ef6-8956-43e641a01367",
   "metadata": {},
   "outputs": [],
   "source": [
    "# naive cleanup - concatenating all corrupted \"image\" entries to \"body\" text\n",
    "eacl_noimage[\"datapoint\"] = eacl_noimage['body']+eacl_noimage['image'].fillna('').astype('str')"
   ]
  },
  {
   "cell_type": "code",
   "execution_count": 5,
   "id": "c5e3324d-00e6-4f46-92d5-8b5e0db0c93e",
   "metadata": {},
   "outputs": [],
   "source": [
    "# creating one-hot encoded misogynistic_label, in line with rest of prepared datasets\n",
    "eacl_noimage[\"misogynistic_label\"] = np.where(eacl_noimage['level_1']=='Misogynistic', 1, 0)"
   ]
  },
  {
   "cell_type": "code",
   "execution_count": 6,
   "id": "1edb5849-de69-49be-bb75-ccb60b6986e1",
   "metadata": {},
   "outputs": [],
   "source": [
    "#output to csv\n",
    "eacl_noimage_processed = eacl_noimage[['datapoint', 'misogynistic_label']].drop_duplicates()\n"
   ]
  },
  {
   "cell_type": "code",
   "execution_count": 7,
   "id": "e2abc0c4-a765-4b96-a6dd-1e8cc0b3b4d4",
   "metadata": {},
   "outputs": [
    {
     "data": {
      "text/plain": [
       "6394"
      ]
     },
     "execution_count": 7,
     "metadata": {},
     "output_type": "execute_result"
    }
   ],
   "source": [
    "# length of total unprocessed noimage dataset\n",
    "len(eacl_noimage['datapoint'])"
   ]
  },
  {
   "cell_type": "code",
   "execution_count": 9,
   "id": "3a6e8240-d401-45f4-9074-573d417a7b9d",
   "metadata": {},
   "outputs": [
    {
     "data": {
      "text/plain": [
       "5984"
      ]
     },
     "execution_count": 9,
     "metadata": {},
     "output_type": "execute_result"
    }
   ],
   "source": [
    "# length of noimage dataset with all repeats of rows\n",
    "len(eacl_noimage_processed)"
   ]
  },
  {
   "cell_type": "code",
   "execution_count": 8,
   "id": "64bdb3d7-d5e9-4a8e-a501-4575e2d9e5d6",
   "metadata": {},
   "outputs": [
    {
     "data": {
      "text/plain": [
       "5983"
      ]
     },
     "execution_count": 8,
     "metadata": {},
     "output_type": "execute_result"
    }
   ],
   "source": [
    "# length of noimage dataset with all repeats of datapoints (the candidate texts) removed\n",
    "len(set(eacl_noimage['datapoint']))"
   ]
  },
  {
   "cell_type": "code",
   "execution_count": 13,
   "id": "743a2d45-ded3-4e8a-95ba-f71d7b941dae",
   "metadata": {},
   "outputs": [
    {
     "data": {
      "text/plain": [
       "\"\\nThere seems to be a repeat of a datapoint. Let's find it\\n\""
      ]
     },
     "execution_count": 13,
     "metadata": {},
     "output_type": "execute_result"
    }
   ],
   "source": [
    "'''\n",
    "There seems to be a repeat of a datapoint. Let's find it\n",
    "'''"
   ]
  },
  {
   "cell_type": "code",
   "execution_count": 19,
   "id": "bf70585c-1e75-417e-8ae4-0fc8adb1db3c",
   "metadata": {
    "scrolled": true
   },
   "outputs": [
    {
     "data": {
      "text/plain": [
       "datapoint\n",
       "1. Whatever vibration you put out, you will attract \\n\\nA lot of you sound like garbage (or just have very flawed, incel like, views/behavior) and wonder why you keep getting trash partners.  Ppl can feel the vibe you put out and I can bet most of the times you come off like a creep instead of a genuine man and thus you attract low vibrational females who cause more drama or have incredible self esteem issues, etc. \\n\\n2. Yes dirty talk works sometimes but also a lot of factors come into play \\n\\nOne of those factors, sadly, are looks. \\nAnd before you give me hate, Dont act like you dont give a fuck about looks either. Ffs OP just rated a girl in these comments. Or  if youre VIBE is right/in check and you dont come off like a fucking creep then youre good. \\n\\n3. Calling females bitches and sluts is not ok unless you are close with them and they SAY its ok.  it can be used as a form of endearment. \\n\\nYou wouldnt want girls calling you a fucking imbecile, cuck, fuck boy, asshole, jerk, prick, fuck face, etc. but if you continue to refer to girls like this, that radiates out and again you will only attract the subpar females that you guys keep complaining about. \\n\\n4. NOTHING BEATS BEING GENUINE\\n\\nRegardless if youre quirky or weird, or whatever else, there will be someone who will match or even compliment that and appreciate you for that. BUT  dont fuck it up by acting the way some of these posts are telling you to act like. \\n\\nAlso you might think youre a nice guy...but if youre posting here and believing some of these Ill written advices...youre probably not as nice of a guy as you think.                                                                                                                                                                                                                                                                                                                                                                                                                                                                                                                                                                                                                                                                                                                                                                                                                                                                                                                                                                                                                                                                                                                                                                                                                                                                                                                                                                                                                                                                                                                                                                                                                                                                                                                                                                                                                                                                                                                                                                                                                                                                                                                                                                                                                                                                                                                                                                                                                                                                                                                                                                                                                           2\n",
       "Omega, beta, alpha. \\n\\nJust call it for what it is: Good-looking guys, average-looking guys and ugly guys.\\n\\nAll this bullshit about 'game' is just cringe. In reality almost all couples are looksmatched. Therefore increasing your looks = getting better looking women.                                                                                                                                                                                                                                                                                                                                                                                                                                                                                                                                                                                                                                                                                                                                                                                                                                                                                                                                                                                                                                                                                                                                                                                                                                                                                                                                                                                                                                                                                                                                                                                                                                                                                                                                                                                                                                                                                                                                                                                                                                                                                                                                                                                                                                                                                                                                                                                                                                                                                                                                                                                                                                                                                                                                                                                                                                                                                                                                                                                                                                                                                                                                                                                                                                                                                                                                                                                                                                                                                                                                                                                                                                                                                                                                                                                                                                                                                                                                                                                                                                   1\n",
       "TRP was meant for Average Frustrated Chumps not Bottom Tier Omegas**Who is the Average Frustrated Chump?**\\n\\nThe average frustrated chump aka our beloved beta has had a semi normal childhood. They know how to talk to people and make friends. They have a friend group that goes outs and meets girls. The average frustrated chumps has gotten girlfriends in the past and knows how to flirt(albeit badly). \\n\\nOur AFC is a 5.\\n\\nThe purpose of TRP was to teach 5's how to improve their looks to a 7.5 and how to act like a player.       \\n It also teaches men to take women off the pedestal. \\n\\nGo to the gym, fix your wardrobe , get an awesome haircut.\\n\\n Stop trying to be friends first.  Assume attraction. Kill approach anxiety. \\n\\n2-3 years of consistent effort and you can go from a 5 to 7. It works for guys with a decent starting point.\\n\\nAnother important note is that a 5 will see results faster. A wardrobe and hair cut can bring a 5 to 6. His friends will compliment his newbie gains. This postive feedback will motivate him to continue his journey.\\n\\n**However TRP was never meant for Bottom Tier Omegas**\\n\\nOmegas are guys who have no social life , no experience with women, are downright unattractive in multiple ways, and  are considers creeps by literally everyone who interacts with them. \\n\\n\\nOur Omega is a 2. TRP welcomes all men with open arms and will try to help them. \\n\\nIn theory TRP could work for them, but there no advice for guys who are starting from zero. \\n\\nHow do you teach someone how socialize and flirt through a Reddit post? It's almost impossible.  \\n\\n\\n2-3 years of consistent effort and these guys will go from a 2 to 5. All that work to get mediocre women our AFC was running from . \\n\\nAnd these guys will see no fast results. Girls don't care if the obese guy has swag. Your newbie gains can't compensate for your social anxiety  . They get no positive feedback until they reach the minimum of 5. \\n\\n\\nAny new trick or theory they learn from TRP can only be tested years after they see it. The AFC can test it out when he goes out or even on his GF/wife. Maybe an Omega can try it out some girl he's orbited but that's about it. It'll be months of improving himself and learning the basics before he can test TRP.\\n\\nEven on the topic orbiting the advice should differ. If the Omega has literally one girl in his life, maybe he shouldn't \"next\" her. That's the only socializing with a girl he has. He should practice what hes learnt on her. Our normal beta can find another girl hence he can \"next\" her. \\n\\nYou'd have to make an entirely new sub for guys who need to get from 2-5.  Then they can graduate to TRP.\\n\\n**Here I explain the rise of the Blackpill**\\n\\nThe balding, 5'3,  Indian ~~janitor~~ programmer has found TRP. They've always been on Reddit. Reddit was built for these guys.  \\n\\nThis guy will be never be Chad. But TRP will give him hope. And he will be disappointed.  \\n\\nThe OG RP dude bros just didn't quite understand what they were dealing with when they tried to save Redditors . ECs would  tell them to talk to girls and these guys would ask how. \"What do you mean how? Just flirt like you usually do\". Poor asktrp ECs probably never realized they were talking to Omegas. \\n\\nEventually the manlets, autists and  indians/asians realized that even if they did everything TRP said they wouldn't get the results of someone with a better starting point. \\n\\nHence The BlackPill was born - Genetic Determinism the ideology. Some guys simply have lower ceilings.\\n\\nSome guys will never reach 7.5 and get to date stacies and plate beckies.  Some guys peak at 5. \\n\\n\"All that work just to be average? lol \" These bottom tier guys all denounced TRP and made their own subs. However one thing they  took from TRP was pushing women off pedestal. They did that perfectly.\\n\\nThis what ultimately lead to the death of TRP.  All the AFCs came improved and left, leaving the dregs of Reddit. The ECs struggled with the omegas who believed they had potential; who eventually graduated. And the omegas who felt they'd never make it  denounced The RedPill and took The BlackPill    1\n",
       "I would disagree as you have a media amplifying it. Of course actually debating this is going to quickly go into politics.\\n\\nI think this says more about the marketing effectiveness and divided nature of the USA right now.                                                                                                                                                                                                                                                                                                                                                                                                                                                                                                                                                                                                                                                                                                                                                                                                                                                                                                                                                                                                                                                                                                                                                                                                                                                                                                                                                                                                                                                                                                                                                                                                                                                                                                                                                                                                                                                                                                                                                                                                                                                                                                                                                                                                                                                                                                                                                                                                                                                                                                                                                                                                                                                                                                                                                                                                                                                                                                                                                                                                                                                                                                                                                                                                                                                                                                                                                                                                                                                                                                                                                                                                                                                                                                                                                                                                                                                                                                                                                                                                                                                                                 1\n",
       "I suppose that also explains the Republicans mentioned in the article as not considering Clinton supporters?\\n\\nor, as the article states:\\n>The aversion to dating people of different political orientations reflects the partisan antipathy seen in the overall public.                                                                                                                                                                                                                                                                                                                                                                                                                                                                                                                                                                                                                                                                                                                                                                                                                                                                                                                                                                                                                                                                                                                                                                                                                                                                                                                                                                                                                                                                                                                                                                                                                                                                                                                                                                                                                                                                                                                                                                                                                                                                                                                                                                                                                                                                                                                                                                                                                                                                                                                                                                                                                                                                                                                                                                                                                                                                                                                                                                                                                                                                                                                                                                                                                                                                                                                                                                                                                                                                                                                                                                                                                                                                                                                                                                                                                                                                                                                                                                                                                                      1\n",
       "                                                                                                                                                                                                                                                                                                                                                                                                                                                                                                                                                                                                                                                                                                                                                                                                                                                                                                                                                                                                                                                                                                                                                                                                                                                                                                                                                                                                                                                                                                                                                                                                                                                                                                                                                                                                                                                                                                                                                                                                                                                                                                                                                                                                                                                                                                                                                                                                                                                                                                                                                                                                                                                                                                                                                                                                                                                                                                                                                                                                                                                                                                                                                                                                                                                                                                                                                                                                                                                                                                                                                                                                                                                                                                                                                                                                                                                                                                                                                                                                                                                                                                                                                                                                                                                                                                               ..\n",
       "Hostels getting an older crowd?Wondering if anyone else has noticed more and more older folk at hostels?\\n\\nI ask, as I am currently sitting at a semi party hostel where the entire crowd in the kitchen right now is over 40. So strange. Maybe its the time of year?\\n\\nSome older people Ive met on this trip have been super friendly and open to conversation but feels like most are not like that. Sad as hostels, to me, feel like a place to meet friends and swap stories.                                                                                                                                                                                                                                                                                                                                                                                                                                                                                                                                                                                                                                                                                                                                                                                                                                                                                                                                                                                                                                                                                                                                                                                                                                                                                                                                                                                                                                                                                                                                                                                                                                                                                                                                                                                                                                                                                                                                                                                                                                                                                                                                                                                                                                                                                                                                                                                                                                                                                                                                                                                                                                                                                                                                                                                                                                                                                                                                                                                                                                                                                                                                                                                                                                                                                                                                                                                                                                                                                                                                                                                                                                                                                                                                                                                                                           1\n",
       "Beauty is power in all kinds of ways, but especially (obviously) sexual. And sexual power is the closest thing to magic.                                                                                                                                                                                                                                                                                                                                                                                                                                                                                                                                                                                                                                                                                                                                                                                                                                                                                                                                                                                                                                                                                                                                                                                                                                                                                                                                                                                                                                                                                                                                                                                                                                                                                                                                                                                                                                                                                                                                                                                                                                                                                                                                                                                                                                                                                                                                                                                                                                                                                                                                                                                                                                                                                                                                                                                                                                                                                                                                                                                                                                                                                                                                                                                                                                                                                                                                                                                                                                                                                                                                                                                                                                                                                                                                                                                                                                                                                                                                                                                                                                                                                                                                                                                        1\n",
       "yess!! it's crazy how people just respect me more in general. like, when i was at an all time low people were so disrespectful and just paid no mind to me.                                                                                                                                                                                                                                                                                                                                                                                                                                                                                                                                                                                                                                                                                                                                                                                                                                                                                                                                                                                                                                                                                                                                                                                                                                                                                                                                                                                                                                                                                                                                                                                                                                                                                                                                                                                                                                                                                                                                                                                                                                                                                                                                                                                                                                                                                                                                                                                                                                                                                                                                                                                                                                                                                                                                                                                                                                                                                                                                                                                                                                                                                                                                                                                                                                                                                                                                                                                                                                                                                                                                                                                                                                                                                                                                                                                                                                                                                                                                                                                                                                                                                                                                                     1\n",
       "GOOD QUESTION. As a fellow looksmaxxer, I'm wondering about the same thing. Ive experienced a slight change in behavior too. NOT from creeps, but been getting compliments from actual normal people with good aesthetic instincts.\\n\\nAlso I was at this super intimate music gig yesterday and I SWEAR TO GOD lead musician was paying me intense attention the ENTIRE time. It was like that ellie golding song, all euphoric and shit.\\n\\nMight possible have been the drunken haze tho, cant be sure, didnt bother sticking around at the end cause the music was SHIT ngl. Also been drinking lots of new herbal tea lately, hence might be emitting magic love potion-like pheromones.                                                                                                                                                                                                                                                                                                                                                                                                                                                                                                                                                                                                                                                                                                                                                                                                                                                                                                                                                                                                                                                                                                                                                                                                                                                                                                                                                                                                                                                                                                                                                                                                                                                                                                                                                                                                                                                                                                                                                                                                                                                                                                                                                                                                                                                                                                                                                                                                                                                                                                                                                                                                                                                                                                                                                                                                                                                                                                                                                                                                                                                                                                                                                                                                                                                                                                                                                                                                                                                                                                                                                                                                                   1\n",
       "Do non-retired people travel in March?\\n\\n(reddit, this a hyperbole, you don't need to tell me about that time you went somewhere in March)                                                                                                                                                                                                                                                                                                                                                                                                                                                                                                                                                                                                                                                                                                                                                                                                                                                                                                                                                                                                                                                                                                                                                                                                                                                                                                                                                                                                                                                                                                                                                                                                                                                                                                                                                                                                                                                                                                                                                                                                                                                                                                                                                                                                                                                                                                                                                                                                                                                                                                                                                                                                                                                                                                                                                                                                                                                                                                                                                                                                                                                                                                                                                                                                                                                                                                                                                                                                                                                                                                                                                                                                                                                                                                                                                                                                                                                                                                                                                                                                                                                                                                                                                                     1\n",
       "Name: count, Length: 5982, dtype: int64"
      ]
     },
     "execution_count": 19,
     "metadata": {},
     "output_type": "execute_result"
    }
   ],
   "source": [
    "eacl_noimage_processed[\"datapoint\"].value_counts()"
   ]
  },
  {
   "cell_type": "code",
   "execution_count": 15,
   "id": "66668be8-2975-408f-8952-8de468fd5200",
   "metadata": {},
   "outputs": [
    {
     "data": {
      "text/html": [
       "<div>\n",
       "<style scoped>\n",
       "    .dataframe tbody tr th:only-of-type {\n",
       "        vertical-align: middle;\n",
       "    }\n",
       "\n",
       "    .dataframe tbody tr th {\n",
       "        vertical-align: top;\n",
       "    }\n",
       "\n",
       "    .dataframe thead th {\n",
       "        text-align: right;\n",
       "    }\n",
       "</style>\n",
       "<table border=\"1\" class=\"dataframe\">\n",
       "  <thead>\n",
       "    <tr style=\"text-align: right;\">\n",
       "      <th></th>\n",
       "      <th>datapoint</th>\n",
       "      <th>misogynistic_label</th>\n",
       "    </tr>\n",
       "  </thead>\n",
       "  <tbody>\n",
       "    <tr>\n",
       "      <th>6106</th>\n",
       "      <td>1. Whatever vibration you put out, you will at...</td>\n",
       "      <td>0</td>\n",
       "    </tr>\n",
       "    <tr>\n",
       "      <th>6563</th>\n",
       "      <td>1. Whatever vibration you put out, you will at...</td>\n",
       "      <td>1</td>\n",
       "    </tr>\n",
       "  </tbody>\n",
       "</table>\n",
       "</div>"
      ],
      "text/plain": [
       "                                              datapoint  misogynistic_label\n",
       "6106  1. Whatever vibration you put out, you will at...                   0\n",
       "6563  1. Whatever vibration you put out, you will at...                   1"
      ]
     },
     "execution_count": 15,
     "metadata": {},
     "output_type": "execute_result"
    }
   ],
   "source": [
    "# NOTE - top value has two datapoints - must be cleaned!!!!\n",
    "\n",
    "problem_data = eacl_noimage_processed[\"datapoint\"].value_counts().index[0]\n",
    "eacl_noimage_processed[eacl_noimage_processed[\"datapoint\"]==problem_data]"
   ]
  },
  {
   "cell_type": "code",
   "execution_count": 20,
   "id": "85094f96-886c-40e4-b6c7-e1bbe1226624",
   "metadata": {},
   "outputs": [],
   "source": [
    "eacl_noimage_processed[eacl_noimage_processed[\"datapoint\"]!=problem_data].to_csv('eacl_guest_preprocessed.csv', index=False)"
   ]
  },
  {
   "cell_type": "code",
   "execution_count": null,
   "id": "28e6b88a-c2da-4442-a171-512a4d8b9ad0",
   "metadata": {},
   "outputs": [],
   "source": []
  }
 ],
 "metadata": {
  "kernelspec": {
   "display_name": "pythia",
   "language": "python",
   "name": "pythia"
  },
  "language_info": {
   "codemirror_mode": {
    "name": "ipython",
    "version": 3
   },
   "file_extension": ".py",
   "mimetype": "text/x-python",
   "name": "python",
   "nbconvert_exporter": "python",
   "pygments_lexer": "ipython3",
   "version": "3.10.12"
  }
 },
 "nbformat": 4,
 "nbformat_minor": 5
}
