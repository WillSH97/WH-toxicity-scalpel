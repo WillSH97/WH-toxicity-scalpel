{
 "cells": [
  {
   "cell_type": "code",
   "execution_count": 1,
   "id": "68ae5894-c8f3-4589-99b2-6eb64db4314c",
   "metadata": {},
   "outputs": [
    {
     "data": {
      "text/plain": [
       "'\\nfinetuned deberta eval scripts\\n'"
      ]
     },
     "execution_count": 1,
     "metadata": {},
     "output_type": "execute_result"
    }
   ],
   "source": [
    "'''\n",
    "finetuned deberta eval scripts\n",
    "'''"
   ]
  },
  {
   "cell_type": "code",
   "execution_count": 2,
   "id": "e60a9a23-3121-418f-a04a-9c8ebc036036",
   "metadata": {},
   "outputs": [
    {
     "name": "stderr",
     "output_type": "stream",
     "text": [
      "/mnt/c/Users/hew7/documents/venvs/pythia/lib/python3.10/site-packages/tqdm/auto.py:21: TqdmWarning: IProgress not found. Please update jupyter and ipywidgets. See https://ipywidgets.readthedocs.io/en/stable/user_install.html\n",
      "  from .autonotebook import tqdm as notebook_tqdm\n"
     ]
    }
   ],
   "source": [
    "import torch\n",
    "from torch.utils.data import Dataset, DataLoader\n",
    "from transformers import AutoTokenizer, AutoModelForSequenceClassification\n",
    "from transformers import DataCollatorWithPadding, AdamW, get_scheduler\n",
    "from tqdm.auto import tqdm\n",
    "import pandas as pd\n",
    "from sklearn.metrics import classification_report\n",
    "\n",
    "import pickle"
   ]
  },
  {
   "cell_type": "code",
   "execution_count": 3,
   "id": "9685fbcb-b0f9-4c6b-bd10-2d77d9bfc334",
   "metadata": {},
   "outputs": [
    {
     "name": "stderr",
     "output_type": "stream",
     "text": [
      "/mnt/c/Users/hew7/documents/venvs/pythia/lib/python3.10/site-packages/transformers/convert_slow_tokenizer.py:561: UserWarning: The sentencepiece tokenizer that you are converting to a fast tokenizer uses the byte fallback option which is not implemented in the fast tokenizers. In practice this means that the fast version of the tokenizer can produce unknown tokens whereas the sentencepiece version would have converted these unknown tokens into a sequence of byte tokens matching the original piece of text.\n",
      "  warnings.warn(\n",
      "Some weights of DebertaV2ForSequenceClassification were not initialized from the model checkpoint at microsoft/deberta-v3-base and are newly initialized: ['classifier.bias', 'classifier.weight', 'pooler.dense.bias', 'pooler.dense.weight']\n",
      "You should probably TRAIN this model on a down-stream task to be able to use it for predictions and inference.\n"
     ]
    }
   ],
   "source": [
    "model_name = 'microsoft/deberta-v3-base'\n",
    "\n",
    "tokenizer = AutoTokenizer.from_pretrained(model_name)\n",
    "model = AutoModelForSequenceClassification.from_pretrained(model_name)\n",
    "\n",
    "device = torch.device(\"cuda\" if torch.cuda.is_available() else \"cpu\")\n"
   ]
  },
  {
   "cell_type": "code",
   "execution_count": 4,
   "id": "bb28dee7-1802-458d-aa77-9adf98098a16",
   "metadata": {
    "scrolled": true
   },
   "outputs": [
    {
     "data": {
      "text/plain": [
       "DebertaV2ForSequenceClassification(\n",
       "  (deberta): DebertaV2Model(\n",
       "    (embeddings): DebertaV2Embeddings(\n",
       "      (word_embeddings): Embedding(128100, 768, padding_idx=0)\n",
       "      (LayerNorm): LayerNorm((768,), eps=1e-07, elementwise_affine=True)\n",
       "      (dropout): Dropout(p=0.1, inplace=False)\n",
       "    )\n",
       "    (encoder): DebertaV2Encoder(\n",
       "      (layer): ModuleList(\n",
       "        (0-11): 12 x DebertaV2Layer(\n",
       "          (attention): DebertaV2Attention(\n",
       "            (self): DisentangledSelfAttention(\n",
       "              (query_proj): Linear(in_features=768, out_features=768, bias=True)\n",
       "              (key_proj): Linear(in_features=768, out_features=768, bias=True)\n",
       "              (value_proj): Linear(in_features=768, out_features=768, bias=True)\n",
       "              (pos_dropout): Dropout(p=0.1, inplace=False)\n",
       "              (dropout): Dropout(p=0.1, inplace=False)\n",
       "            )\n",
       "            (output): DebertaV2SelfOutput(\n",
       "              (dense): Linear(in_features=768, out_features=768, bias=True)\n",
       "              (LayerNorm): LayerNorm((768,), eps=1e-07, elementwise_affine=True)\n",
       "              (dropout): Dropout(p=0.1, inplace=False)\n",
       "            )\n",
       "          )\n",
       "          (intermediate): DebertaV2Intermediate(\n",
       "            (dense): Linear(in_features=768, out_features=3072, bias=True)\n",
       "            (intermediate_act_fn): GELUActivation()\n",
       "          )\n",
       "          (output): DebertaV2Output(\n",
       "            (dense): Linear(in_features=3072, out_features=768, bias=True)\n",
       "            (LayerNorm): LayerNorm((768,), eps=1e-07, elementwise_affine=True)\n",
       "            (dropout): Dropout(p=0.1, inplace=False)\n",
       "          )\n",
       "        )\n",
       "      )\n",
       "      (rel_embeddings): Embedding(512, 768)\n",
       "      (LayerNorm): LayerNorm((768,), eps=1e-07, elementwise_affine=True)\n",
       "    )\n",
       "  )\n",
       "  (pooler): ContextPooler(\n",
       "    (dense): Linear(in_features=768, out_features=768, bias=True)\n",
       "    (dropout): Dropout(p=0, inplace=False)\n",
       "  )\n",
       "  (classifier): Linear(in_features=768, out_features=2, bias=True)\n",
       "  (dropout): Dropout(p=0.1, inplace=False)\n",
       ")"
      ]
     },
     "execution_count": 4,
     "metadata": {},
     "output_type": "execute_result"
    }
   ],
   "source": [
    "#load finetuned weights\n",
    "\n",
    "MODEL_WEIGHT_PATH=\"deberta_finetune_epoch1\"\n",
    "\n",
    "model.load_state_dict(torch.load(MODEL_WEIGHT_PATH, weights_only=True))\n",
    "\n",
    "model.to(device)"
   ]
  },
  {
   "cell_type": "code",
   "execution_count": 5,
   "id": "b5015573-804d-4da7-bc65-38ba6457452a",
   "metadata": {},
   "outputs": [],
   "source": [
    "\n",
    "#load test set\n",
    "\n",
    "class BiaslyDataset(Dataset):\n",
    "    def __init__(self, dataframe, tokenizer):\n",
    "        self.texts = dataframe['datapoint'].tolist()\n",
    "        self.labels = dataframe['misogynistic_label'].tolist()\n",
    "        \n",
    "        # Tokenize in the constructor\n",
    "        self.encodings = tokenizer(self.texts, truncation=True, padding=True, max_length=512)\n",
    "    \n",
    "    def __len__(self):\n",
    "        return len(self.texts)\n",
    "    \n",
    "    def __getitem__(self, idx):\n",
    "        item = {key: torch.tensor(val[idx]) for key, val in self.encodings.items()}\n",
    "        item['labels'] = torch.tensor(self.labels[idx])\n",
    "        return item\n",
    "\n",
    "with open(\"test_set.pickle\", \"rb\") as f:\n",
    "    test_set=pickle.load(f)"
   ]
  },
  {
   "cell_type": "code",
   "execution_count": 6,
   "id": "6aa5a885-dbfd-43b1-bd20-0be72203e2ee",
   "metadata": {},
   "outputs": [],
   "source": [
    "data_collator = DataCollatorWithPadding(tokenizer=tokenizer)\n",
    "\n",
    "test_dataloader = DataLoader(\n",
    "    test_set, batch_size=4, collate_fn=data_collator\n",
    ")\n",
    "test_results = []\n",
    "for batch in test_dataloader:\n",
    "    batch = {k: v.to(device) for k, v in batch.items()}\n",
    "    outputs = model(**batch)\n",
    "    test_results.extend(outputs.logits.tolist())"
   ]
  },
  {
   "cell_type": "code",
   "execution_count": 7,
   "id": "f344689f-406a-4b54-86ba-87a4cd4469f3",
   "metadata": {},
   "outputs": [
    {
     "data": {
      "text/plain": [
       "SequenceClassifierOutput(loss=tensor(1.0014, device='cuda:0', grad_fn=<NllLossBackward0>), logits=tensor([[-0.4320,  0.5413],\n",
       "        [ 0.4467, -0.3843],\n",
       "        [ 0.2161, -0.1725]], device='cuda:0', grad_fn=<AddmmBackward0>), hidden_states=None, attentions=None)"
      ]
     },
     "execution_count": 7,
     "metadata": {},
     "output_type": "execute_result"
    }
   ],
   "source": [
    "outputs"
   ]
  },
  {
   "cell_type": "code",
   "execution_count": 8,
   "id": "9a163152-1926-40ec-800b-05722a96d23d",
   "metadata": {},
   "outputs": [
    {
     "data": {
      "text/plain": [
       "[[-0.43201586604118347, 0.541307270526886],\n",
       " [0.446733295917511, -0.38432469964027405],\n",
       " [0.21613512933254242, -0.17245960235595703]]"
      ]
     },
     "execution_count": 8,
     "metadata": {},
     "output_type": "execute_result"
    }
   ],
   "source": [
    "outputs.logits.tolist()"
   ]
  },
  {
   "cell_type": "code",
   "execution_count": 24,
   "id": "498a87c9-9667-4926-98f3-5cfc2a064924",
   "metadata": {
    "scrolled": true
   },
   "outputs": [
    {
     "data": {
      "text/plain": [
       "tensor([[ 1.4739, -1.3282],\n",
       "        [ 0.5295, -0.4830],\n",
       "        [-0.0241,  0.0663],\n",
       "        ...,\n",
       "        [-0.4320,  0.5413],\n",
       "        [ 0.4467, -0.3843],\n",
       "        [ 0.2161, -0.1725]])"
      ]
     },
     "execution_count": 24,
     "metadata": {},
     "output_type": "execute_result"
    }
   ],
   "source": [
    "torch.tensor(test_results)"
   ]
  },
  {
   "cell_type": "code",
   "execution_count": 17,
   "id": "020cd67d-ff3c-4277-987e-fb5cc044e638",
   "metadata": {},
   "outputs": [],
   "source": [
    "y_true = [float(x['labels']) for x in test_set]"
   ]
  },
  {
   "cell_type": "code",
   "execution_count": 18,
   "id": "2a161449-96d4-40d4-ba14-877395d82217",
   "metadata": {},
   "outputs": [],
   "source": [
    "from torch.nn import Softmax"
   ]
  },
  {
   "cell_type": "code",
   "execution_count": 19,
   "id": "00154cbf-b710-4c67-b560-f0205da2f2b2",
   "metadata": {},
   "outputs": [],
   "source": [
    "m=Softmax()"
   ]
  },
  {
   "cell_type": "code",
   "execution_count": 27,
   "id": "8101f3dc-1568-4daa-b807-57dcee0847dd",
   "metadata": {},
   "outputs": [],
   "source": [
    "softmax = m(torch.tensor(test_results))"
   ]
  },
  {
   "cell_type": "code",
   "execution_count": 36,
   "id": "1acefd9a-1c04-46f6-96be-122ea25ce574",
   "metadata": {},
   "outputs": [
    {
     "name": "stderr",
     "output_type": "stream",
     "text": [
      "/tmp/ipykernel_10728/1735859090.py:1: DeprecationWarning: __array__ implementation doesn't accept a copy keyword, so passing copy=False failed. __array__ must implement 'dtype' and 'copy' keyword arguments. To learn more, see the migration guide https://numpy.org/devdocs/numpy_2_0_migration_guide.html#adapting-to-changes-in-the-copy-keyword\n",
      "  probs = np.array(softmax)[:,1].reshape(-1,1)\n"
     ]
    }
   ],
   "source": [
    "probs = np.array(softmax)[:,1].reshape(-1,1)"
   ]
  },
  {
   "cell_type": "code",
   "execution_count": 37,
   "id": "bd2e43dd-ec08-47f3-a84a-c6e94d8f4bea",
   "metadata": {},
   "outputs": [],
   "source": [
    "#naive rounding\n",
    "results_pred = [np.round(x[0]) for x in probs.tolist()]"
   ]
  },
  {
   "cell_type": "code",
   "execution_count": 38,
   "id": "772ad129-8775-40ec-b5b3-136a37b9746a",
   "metadata": {},
   "outputs": [
    {
     "name": "stdout",
     "output_type": "stream",
     "text": [
      "              precision    recall  f1-score   support\n",
      "\n",
      "         0.0       0.71      0.91      0.80       755\n",
      "         1.0       0.78      0.47      0.58       516\n",
      "\n",
      "    accuracy                           0.73      1271\n",
      "   macro avg       0.74      0.69      0.69      1271\n",
      "weighted avg       0.74      0.73      0.71      1271\n",
      "\n"
     ]
    }
   ],
   "source": [
    "print(classification_report(results_pred, y_true))"
   ]
  },
  {
   "cell_type": "code",
   "execution_count": null,
   "id": "65b221c2-62c8-47e0-8d27-fc243b7c9b60",
   "metadata": {},
   "outputs": [],
   "source": []
  }
 ],
 "metadata": {
  "kernelspec": {
   "display_name": "pythia",
   "language": "python",
   "name": "pythia"
  },
  "language_info": {
   "codemirror_mode": {
    "name": "ipython",
    "version": 3
   },
   "file_extension": ".py",
   "mimetype": "text/x-python",
   "name": "python",
   "nbconvert_exporter": "python",
   "pygments_lexer": "ipython3",
   "version": "3.10.12"
  }
 },
 "nbformat": 4,
 "nbformat_minor": 5
}
