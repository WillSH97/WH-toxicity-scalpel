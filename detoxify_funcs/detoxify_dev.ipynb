{
 "cells": [
  {
   "cell_type": "code",
   "execution_count": 1,
   "id": "48d39e6f-6627-4db9-a7a7-8f838ad96039",
   "metadata": {},
   "outputs": [
    {
     "name": "stderr",
     "output_type": "stream",
     "text": [
      "/mnt/c/Users/hew7/documents/venvs/pythia/lib/python3.10/site-packages/tqdm/auto.py:21: TqdmWarning: IProgress not found. Please update jupyter and ipywidgets. See https://ipywidgets.readthedocs.io/en/stable/user_install.html\n",
      "  from .autonotebook import tqdm as notebook_tqdm\n",
      "Downloading: \"https://github.com/unitaryai/detoxify/releases/download/v0.4-alpha/multilingual_debiased-0b549669.ckpt\" to /home/hew7/.cache/torch/hub/checkpoints/multilingual_debiased-0b549669.ckpt\n",
      "100%|██████████████████████████████████████████████████████████████████████████████| 1.04G/1.04G [01:17<00:00, 14.4MB/s]\n"
     ]
    }
   ],
   "source": [
    "from detoxify import Detoxify\n",
    "\n",
    "results = Detoxify('multilingual').predict(['women suck'])"
   ]
  },
  {
   "cell_type": "code",
   "execution_count": 2,
   "id": "3576ae91-f691-4b52-b81c-cba728a90a3f",
   "metadata": {},
   "outputs": [
    {
     "data": {
      "text/plain": [
       "{'toxicity': [0.988925039768219],\n",
       " 'severe_toxicity': [0.06807057559490204],\n",
       " 'obscene': [0.911264181137085],\n",
       " 'identity_attack': [0.2649061679840088],\n",
       " 'insult': [0.863525390625],\n",
       " 'threat': [0.009523488581180573],\n",
       " 'sexual_explicit': [0.6481643915176392]}"
      ]
     },
     "execution_count": 2,
     "metadata": {},
     "output_type": "execute_result"
    }
   ],
   "source": [
    "results"
   ]
  },
  {
   "cell_type": "code",
   "execution_count": 5,
   "id": "215620ac-528d-43c2-a0dd-e027f4444731",
   "metadata": {},
   "outputs": [
    {
     "data": {
      "text/plain": [
       "{'toxicity': [0.01778915338218212],\n",
       " 'severe_toxicity': [5.981310459901579e-05],\n",
       " 'obscene': [0.0012222299119457603],\n",
       " 'identity_attack': [0.0001634827785892412],\n",
       " 'insult': [0.012282012961804867],\n",
       " 'threat': [8.830712613416836e-05],\n",
       " 'sexual_explicit': [0.00018239581550005823]}"
      ]
     },
     "execution_count": 5,
     "metadata": {},
     "output_type": "execute_result"
    }
   ],
   "source": [
    "Detoxify('multilingual').predict(['im a little guy'])"
   ]
  },
  {
   "cell_type": "code",
   "execution_count": null,
   "id": "cd549ff3-2bc4-442e-814e-144937de5d16",
   "metadata": {},
   "outputs": [],
   "source": []
  }
 ],
 "metadata": {
  "kernelspec": {
   "display_name": "pythia",
   "language": "python",
   "name": "pythia"
  },
  "language_info": {
   "codemirror_mode": {
    "name": "ipython",
    "version": 3
   },
   "file_extension": ".py",
   "mimetype": "text/x-python",
   "name": "python",
   "nbconvert_exporter": "python",
   "pygments_lexer": "ipython3",
   "version": "3.10.12"
  }
 },
 "nbformat": 4,
 "nbformat_minor": 5
}
