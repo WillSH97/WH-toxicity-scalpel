{
 "cells": [
  {
   "cell_type": "code",
   "execution_count": 1,
   "id": "dc77eb76-b24b-4f86-a4d9-f765e2ce7093",
   "metadata": {},
   "outputs": [
    {
     "data": {
      "text/plain": [
       "'\\nchecking performance of llama-guard on biasly dataset\\n'"
      ]
     },
     "execution_count": 1,
     "metadata": {},
     "output_type": "execute_result"
    }
   ],
   "source": [
    "'''\n",
    "checking performance of llama-guard on biasly dataset\n",
    "'''"
   ]
  },
  {
   "cell_type": "code",
   "execution_count": 7,
   "id": "14429a8d-2803-439c-bc2c-7e0d2f0517d4",
   "metadata": {},
   "outputs": [],
   "source": [
    "from llama_guard_moderator import moderate\n",
    "import pandas as pd\n",
    "import numpy as np\n",
    "from sklearn.metrics import classification_report\n",
    "from tqdm import tqdm"
   ]
  },
  {
   "cell_type": "code",
   "execution_count": 8,
   "id": "626ed640-b552-49d2-9592-ce88d303cd40",
   "metadata": {},
   "outputs": [],
   "source": [
    "test_set = pd.read_csv('../datasets/biasly/biasly_prepared_df.csv')"
   ]
  },
  {
   "cell_type": "code",
   "execution_count": 9,
   "id": "aa7adaee-9ce3-46f1-9486-9b4d87c89e21",
   "metadata": {},
   "outputs": [
    {
     "name": "stderr",
     "output_type": "stream",
     "text": [
      "100%|███████████████████████████████████████████████████████████████████████████| 12697/12697 [1:14:12<00:00,  2.85it/s]\n"
     ]
    }
   ],
   "source": [
    "results = []\n",
    "for index in tqdm(test_set.index):\n",
    "    output = moderate(test_set['datapoint'][index])\n",
    "    if output == 'unsafe\\nS9':\n",
    "        results.append(1)\n",
    "    else:\n",
    "        results.append(0)\n",
    "\n"
   ]
  },
  {
   "cell_type": "code",
   "execution_count": 12,
   "id": "5cf044cc-abf3-4049-bd09-f8daf3e85e23",
   "metadata": {},
   "outputs": [
    {
     "name": "stdout",
     "output_type": "stream",
     "text": [
      "              precision    recall  f1-score   support\n",
      "\n",
      "           0       0.75      0.99      0.86      9538\n",
      "           1       0.59      0.02      0.05      3159\n",
      "\n",
      "    accuracy                           0.75     12697\n",
      "   macro avg       0.67      0.51      0.45     12697\n",
      "weighted avg       0.71      0.75      0.66     12697\n",
      "\n"
     ]
    }
   ],
   "source": [
    "print(classification_report(test_set['misogynistic_label'], results))"
   ]
  },
  {
   "cell_type": "code",
   "execution_count": null,
   "id": "97e87b76-335a-489a-aba2-e8e8586060f8",
   "metadata": {},
   "outputs": [],
   "source": []
  }
 ],
 "metadata": {
  "kernelspec": {
   "display_name": "pythia",
   "language": "python",
   "name": "pythia"
  },
  "language_info": {
   "codemirror_mode": {
    "name": "ipython",
    "version": 3
   },
   "file_extension": ".py",
   "mimetype": "text/x-python",
   "name": "python",
   "nbconvert_exporter": "python",
   "pygments_lexer": "ipython3",
   "version": "3.10.12"
  }
 },
 "nbformat": 4,
 "nbformat_minor": 5
}
