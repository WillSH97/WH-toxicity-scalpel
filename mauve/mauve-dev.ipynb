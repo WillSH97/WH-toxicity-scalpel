{
 "cells": [
  {
   "cell_type": "code",
   "execution_count": 5,
   "id": "30784d5e-726a-46cc-8ba1-16188edc6b63",
   "metadata": {},
   "outputs": [
    {
     "name": "stdout",
     "output_type": "stream",
     "text": [
      "Tokenizing text...\n",
      "Featurizing tokens\n"
     ]
    },
    {
     "name": "stderr",
     "output_type": "stream",
     "text": [
      "Featurizing p: 100%|██████████████████████████████████████████████████████████████████████| 2/2 [00:00<00:00,  5.02it/s]\n"
     ]
    },
    {
     "name": "stdout",
     "output_type": "stream",
     "text": [
      "Tokenizing text...\n",
      "Featurizing tokens\n"
     ]
    },
    {
     "name": "stderr",
     "output_type": "stream",
     "text": [
      "Featurizing q: 100%|██████████████████████████████████████████████████████████████████████| 2/2 [00:00<00:00,  5.24it/s]\n",
      "WARNING clustering 4 points to 2 centroids: please provide at least 78 training points\n"
     ]
    },
    {
     "name": "stdout",
     "output_type": "stream",
     "text": [
      "seed = 25\n",
      "performing clustering in lower dimension = 0\n",
      "\n",
      "Clustering 4 points in 1D to 2 clusters, redo 5 times, 500 iterations\n",
      "  Preprocessing in 0.00 s\n",
      "Outer iteration 0 / 5\n",
      "  Iteration 499 (0.13 s, search 0.00 s): objective=0 imbalance=1.000 nsplit=0            \n",
      "Objective improved: keep new clusters\n",
      "Outer iteration 1 / 5\n",
      "  Iteration 499 (0.30 s, search 0.01 s): objective=0 imbalance=1.000 nsplit=0       \n",
      "Outer iteration 2 / 5\n",
      "  Iteration 499 (0.42 s, search 0.01 s): objective=0 imbalance=1.000 nsplit=0       \n",
      "Outer iteration 3 / 5\n",
      "  Iteration 499 (0.55 s, search 0.02 s): objective=0 imbalance=1.000 nsplit=0       \n",
      "Outer iteration 4 / 5\n",
      "kmeans time: 0.68 s68 s, search 0.02 s): objective=0 imbalance=1.000 nsplit=0       \n",
      "total discretization time: 0.69 seconds\n"
     ]
    }
   ],
   "source": [
    "'''\n",
    "literally just copied and pasted from here: https://huggingface.co/spaces/evaluate-metric/mauve\n",
    "'''\n",
    "\n",
    "from evaluate import load\n",
    "mauve = load('mauve')\n",
    "predictions = [\"hello world\", \"goodnight moon\"]\n",
    "references = [\"hello world\",  \"goodnight moon\"]\n",
    "mauve_results = mauve.compute(predictions=predictions, references=references)"
   ]
  },
  {
   "cell_type": "code",
   "execution_count": null,
   "id": "2155a127-835c-424b-9686-3f2bde567d7f",
   "metadata": {},
   "outputs": [],
   "source": []
  }
 ],
 "metadata": {
  "kernelspec": {
   "display_name": "pythia",
   "language": "python",
   "name": "pythia"
  },
  "language_info": {
   "codemirror_mode": {
    "name": "ipython",
    "version": 3
   },
   "file_extension": ".py",
   "mimetype": "text/x-python",
   "name": "python",
   "nbconvert_exporter": "python",
   "pygments_lexer": "ipython3",
   "version": "3.10.12"
  }
 },
 "nbformat": 4,
 "nbformat_minor": 5
}
